{
 "cells": [
  {
   "cell_type": "code",
   "execution_count": 25,
   "metadata": {},
   "outputs": [],
   "source": [
    "import numpy as np\n",
    "import cv2 \n",
    "import scipy\n",
    "import matplotlib.pylab as plt\n",
    "from skimage import io"
   ]
  },
  {
   "cell_type": "code",
   "execution_count": 26,
   "metadata": {},
   "outputs": [],
   "source": [
    "vid_left = cv2.VideoCapture('./Dataset-1/left_output-1.avi') \n",
    "template_1_url = \"https://raw.githubusercontent.com/jbinteam/010723305/main/images/final_exam/Templates/Template-1.png\"\n",
    "\n",
    "template_1_img = io.imread(template_1_url)\n",
    "template_1_gray = cv2.cvtColor(template_1_img, cv2.COLOR_BGR2GRAY) \n"
   ]
  },
  {
   "cell_type": "code",
   "execution_count": 27,
   "metadata": {},
   "outputs": [],
   "source": [
    "def feature_object_detection(template_1_img, template_1_gray, query_img, query_gray, MIN_MATCH_NUMBER) :\n",
    "    template_1_kpts, template_1_desc = sift.detectAndCompute(template_1_gray, None)\n",
    "    query_1_kpts, query_1_desc = sift.detectAndCompute(query_1_gray, None)\n",
    "    matches = bf.knnMatch(template_1_desc, query_1_desc, k=2)\n",
    "    good_matches = list()\n",
    "    good_matches_list = list()\n",
    "    for m, n in matches :\n",
    "        if m.distance < 0.73*n.distance :\n",
    "            good_matches.append(m)\n",
    "            good_matches_list.append([m])\n",
    "\n",
    "    if len(good_matches) > MIN_MATCH_NUMBER : \n",
    "        src_pts = np.float32([ template_1_kpts[m.queryIdx].pt for m in good_matches ]).reshape(-1,1,2)\n",
    "        dst_pts = np.float32([ query_1_kpts[m.trainIdx].pt for m in good_matches ]).reshape(-1,1,2)\n",
    "\n",
    "        H, inlier_masks = cv2.findHomography(src_pts, dst_pts, cv2.RANSAC, 1.5) # H RANSAC \n",
    "        #get the bounding box around template image\n",
    "        h, w = template_1_img.shape[:2]\n",
    "        template_box = np.float32([[0, 0], [0, h-1], [w-1, h-1], [w-1, 0]]).reshape(-1,1,2) \n",
    "        transformed_box = cv2.perspectiveTransform(template_box, H)\n",
    "\n",
    "        detected_img = cv2.polylines( frame, [np.int32(transformed_box)], True, (0,255,0), 1, cv2.LINE_AA)\n",
    "        drawmatch_img = cv2.drawMatchesKnn(template_1_img, template_1_kpts, detected_img, query_1_kpts, good_matches_list, None, flags=2, matchesMask=inlier_masks)\n",
    "\n",
    "        return detected_img, drawmatch_img\n",
    "    else :\n",
    "        print('Keypoints not enough')\n",
    "        return"
   ]
  },
  {
   "cell_type": "code",
   "execution_count": 28,
   "metadata": {},
   "outputs": [],
   "source": [
    "if (vid_left.isOpened()== False): \n",
    "  print(\"Error opening video stream or file\")\n",
    "      \n",
    "while (vid_left.isOpened()) : \n",
    "    ret,  frame = vid_left.read()  \n",
    "\n",
    "    if (ret ==True) :\n",
    "        \n",
    "        kernel = np.array([[0,0,0], [0,1.7,0],[0,0,0]])  \n",
    "        \n",
    "        query_1_img = cv2.filter2D(src= frame, ddepth= -1, kernel= kernel) \n",
    "        query_1_gray = cv2.cvtColor(query_1_img, cv2.COLOR_BGR2GRAY) \n",
    "        \n",
    "        sift = cv2.SIFT_create() \n",
    "        bf = cv2.BFMatcher()\n",
    "        MIN_MATCH_NUMBER = 10\n",
    "        detected_img, drawmatch_img = feature_object_detection(template_1_img, template_1_gray, query_1_img, query_1_gray, MIN_MATCH_NUMBER)\n",
    "            \n",
    "        cv2.imshow('detected',detected_img)\n",
    "\n",
    "        if cv2.waitKey(25) & 0xFF == ord('q'):\n",
    "          break\n",
    "     \n",
    "    else :\n",
    "        break\n",
    "    \n",
    "vid_left.release  ()\n",
    "cv2.destroyAllWindows ()"
   ]
  },
  {
   "cell_type": "markdown",
   "metadata": {},
   "source": []
  }
 ],
 "metadata": {
  "kernelspec": {
   "display_name": "Python 3.10.6 64-bit",
   "language": "python",
   "name": "python3"
  },
  "language_info": {
   "codemirror_mode": {
    "name": "ipython",
    "version": 3
   },
   "file_extension": ".py",
   "mimetype": "text/x-python",
   "name": "python",
   "nbconvert_exporter": "python",
   "pygments_lexer": "ipython3",
   "version": "3.10.6"
  },
  "orig_nbformat": 4,
  "vscode": {
   "interpreter": {
    "hash": "a9cff5a362bc38ef45d817ae74b1af54d6a076e3d773891282bce078b815ba34"
   }
  }
 },
 "nbformat": 4,
 "nbformat_minor": 2
}
